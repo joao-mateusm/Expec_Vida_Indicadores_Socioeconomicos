{
 "cells": [
  {
   "cell_type": "markdown",
   "id": "1347df93-594b-478b-bd5b-962da7fbcd4c",
   "metadata": {},
   "source": [
    "## Projeto criado para o curso: Data Science Para Análise Multivariada de Dados\n",
    "\n",
    "## Data Science em Ciências Sociais - Prevendo a Expectativa de Vida Através de Indicadores Socioeconômicos"
   ]
  },
  {
   "cell_type": "code",
   "execution_count": null,
   "id": "22da21bd-bd74-4b07-882a-26ade9407ec7",
   "metadata": {},
   "outputs": [],
   "source": [
    "# Imports\n",
    "import joblib\n",
    "import pandas as pd\n",
    "import numpy as np\n",
    "import seaborn as sns\n",
    "import matplotlib.pyplot as plt\n",
    "import sklearn\n",
    "from sklearn.ensemble import RandomForestRegressor\n",
    "from sklearn.preprocessing import StandardScaler \n",
    "from sklearn.model_selection import train_test_split\n",
    "from sklearn.linear_model import LinearRegression, Ridge, Lasso, ElasticNet\n",
    "from sklearn.model_selection import GridSearchCV\n",
    "from sklearn import metrics\n",
    "import warnings\n",
    "warnings.filterwarnings(\"ignore\")"
   ]
  },
  {
   "cell_type": "markdown",
   "id": "912794a3-bf6a-49f5-8855-360f44f1c3f6",
   "metadata": {},
   "source": [
    "## Carregando e Compreendendo os Dados"
   ]
  },
  {
   "cell_type": "code",
   "execution_count": null,
   "id": "d952a244-6a68-4285-b569-4e16c75ba5c9",
   "metadata": {},
   "outputs": [],
   "source": [
    "# Carregando os dados\n",
    "dsa_dados = pd.read_csv('dataset.csv')"
   ]
  },
  {
   "cell_type": "code",
   "execution_count": null,
   "id": "3ebd615d-a4fb-44c6-83a1-d713b20a44df",
   "metadata": {},
   "outputs": [],
   "source": [
    "# Shape\n",
    "dsa_dados.shape"
   ]
  },
  {
   "cell_type": "code",
   "execution_count": null,
   "id": "2413b6c5-0fb6-4f6c-be8c-ee6d18292002",
   "metadata": {},
   "outputs": [],
   "source": [
    "# Amostra dos dados\n",
    "dsa_dados.sample(10)"
   ]
  },
  {
   "cell_type": "code",
   "execution_count": null,
   "id": "5e6bfb08-50b3-470b-9d03-89d5ae05f985",
   "metadata": {},
   "outputs": [],
   "source": [
    "# Tipos de dados\n",
    "dsa_dados.dtypes"
   ]
  },
  {
   "cell_type": "markdown",
   "id": "f29d842a-4a5b-4e1c-bd5a-d6c28222a020",
   "metadata": {},
   "source": [
    "## Ajuste Inicial nos Dados"
   ]
  },
  {
   "cell_type": "code",
   "execution_count": 2,
   "id": "58f2c190-5363-4730-84ef-1d83dda340d3",
   "metadata": {},
   "outputs": [
    {
     "ename": "NameError",
     "evalue": "name 'dsa_dados' is not defined",
     "output_type": "error",
     "traceback": [
      "\u001b[1;31m---------------------------------------------------------------------------\u001b[0m",
      "\u001b[1;31mNameError\u001b[0m                                 Traceback (most recent call last)",
      "Cell \u001b[1;32mIn[2], line 2\u001b[0m\n\u001b[0;32m      1\u001b[0m \u001b[38;5;66;03m# Colunas\u001b[39;00m\n\u001b[1;32m----> 2\u001b[0m dsa_dados\u001b[38;5;241m.\u001b[39mcolumns\n",
      "\u001b[1;31mNameError\u001b[0m: name 'dsa_dados' is not defined"
     ]
    }
   ],
   "source": [
    "# Colunas\n",
    "dsa_dados.columns"
   ]
  },
  {
   "cell_type": "code",
   "execution_count": null,
   "id": "64e3840f-0897-497c-b90e-464d697bd739",
   "metadata": {},
   "outputs": [],
   "source": [
    "# Ajusta o dataframe\n",
    "df_dsa = pd.DataFrame({'country': dsa_dados['Country'],\n",
    "                       'life_expectancy': dsa_dados['Life expectancy '],\n",
    "                       'year': dsa_dados['Year'],\n",
    "                       'status': dsa_dados['Status'],\n",
    "                       'adult_mortality': dsa_dados['Adult Mortality'],\n",
    "                       'inf_death': dsa_dados['infant deaths'],\n",
    "                       'alcohol': dsa_dados['Alcohol'],\n",
    "                       'hepatitisB': dsa_dados['Hepatitis B'],\n",
    "                       'measles': dsa_dados['Measles '],\n",
    "                       'bmi': dsa_dados[' BMI '],\n",
    "                       'polio': dsa_dados['Polio'],\n",
    "                       'diphtheria': dsa_dados['Diphtheria '],\n",
    "                       'hiv': dsa_dados[' HIV/AIDS'],\n",
    "                       'gdp': dsa_dados['GDP'],\n",
    "                       'total_expenditure': dsa_dados['Total expenditure'],\n",
    "                       'thinness_till19': dsa_dados[' thinness  1-19 years'],\n",
    "                       'thinness_till9': dsa_dados[' thinness 5-9 years'],\n",
    "                       'school': dsa_dados['Schooling'],\n",
    "                       'population': dsa_dados[' Population']})"
   ]
  },
  {
   "cell_type": "code",
   "execution_count": null,
   "id": "44ebf932-bead-479e-834f-0b4ee03f7d85",
   "metadata": {},
   "outputs": [],
   "source": [
    "# Shape\n",
    "df_dsa.shape"
   ]
  },
  {
   "cell_type": "code",
   "execution_count": null,
   "id": "b9df0208-2521-4eb7-bfa1-19efe79d6ff7",
   "metadata": {},
   "outputs": [],
   "source": [
    "# Visualiza as 5 primeiras linhas\n",
    "df_dsa.head()"
   ]
  },
  {
   "cell_type": "markdown",
   "id": "911a97ec-7d09-4d3d-be55-58aac15f3886",
   "metadata": {},
   "source": [
    "## Construindo o Dicionário de Dados"
   ]
  },
  {
   "cell_type": "code",
   "execution_count": null,
   "id": "81a5917e-3ae4-40ed-b2fa-ffe2005b9820",
   "metadata": {},
   "outputs": [],
   "source": [
    "# Cria um dicionário com a descrição de cada variável\n",
    "dsa_df_dict = {\n",
    "    \"country\": \"País de origem dos dados.\",\n",
    "    \"life_expectancy\": \"Expectativa de vida ao nascer, em anos.\",\n",
    "    \"year\": \"Ano em que os dados foram coletados.\",\n",
    "    \"status\": \"Status de desenvolvimento do país ('Developing' para países em desenvolvimento, 'Developed' para países desenvolvidos).\",\n",
    "    \"adult_mortality\": \"Taxa de mortalidade de adultos entre 15 e 60 anos por 1000 habitantes.\",\n",
    "    \"inf_death\": \"Número de mortes de crianças com menos de 5 anos por 1000 nascidos vivos.\",\n",
    "    \"alcohol\": \"Consumo de álcool per capita (litros de álcool puro por ano).\",\n",
    "    \"hepatitisB\": \"Cobertura de vacinação contra hepatite B em crianças de 1 ano (%).\",\n",
    "    \"measles\": \"Número de casos de sarampo relatados por 1000 habitantes.\",\n",
    "    \"bmi\": \"Índice médio de massa corporal da população adulta.\",\n",
    "    \"polio\": \"Cobertura de vacinação contra poliomielite em crianças de 1 ano (%).\",\n",
    "    \"diphtheria\": \"Cobertura de vacinação contra difteria, tétano e coqueluche (DTP3) em crianças de 1 ano (%).\",\n",
    "    \"hiv\": \"Prevalência de HIV na população adulta (%).\",\n",
    "    \"gdp\": \"Produto Interno Bruto per capita (em dólares americanos).\",\n",
    "    \"total_expenditure\": \"Gasto total em saúde como porcentagem do PIB.\",\n",
    "    \"thinness_till19\": \"Prevalência de magreza em crianças e adolescentes de 10 a 19 anos (%).\",\n",
    "    \"thinness_till9\": \"Prevalência de magreza em crianças de 5 a 9 anos (%).\",\n",
    "    \"school\": \"Número médio de anos de escolaridade.\",\n",
    "    \"population\": \"População total do país.\"\n",
    "}"
   ]
  },
  {
   "cell_type": "code",
   "execution_count": null,
   "id": "d2e88b2f-27b3-458b-9999-6d08c338328d",
   "metadata": {},
   "outputs": [],
   "source": [
    "# Agora é só consultar sempre que tiver dúvidas sobre cada variável\n",
    "dsa_df_dict['life_expectancy']"
   ]
  },
  {
   "cell_type": "markdown",
   "id": "cbe545d3-6ff8-4b9b-938a-48a466c493af",
   "metadata": {},
   "source": [
    "## Análise Exploratória"
   ]
  },
  {
   "cell_type": "code",
   "execution_count": null,
   "id": "5a85b7bd-4d94-40af-91ed-cd4a2375a63b",
   "metadata": {},
   "outputs": [],
   "source": [
    "# Plot do histograma da variável alvo (variável quantitativa)\n",
    "df_dsa['life_expectancy'].hist();"
   ]
  },
  {
   "cell_type": "code",
   "execution_count": null,
   "id": "9e39ed87-b268-4390-b98d-0460c2dd9ac6",
   "metadata": {},
   "outputs": [],
   "source": [
    "# Resumo estatístico (variáveis numéricas)\n",
    "df_dsa.describe()"
   ]
  },
  {
   "cell_type": "code",
   "execution_count": null,
   "id": "98456145-b734-43bf-9de6-0a9adbbbcbd7",
   "metadata": {},
   "outputs": [],
   "source": [
    "# Resumo estatístico (variáveis categóricas)\n",
    "df_dsa.describe(include = ['object'])"
   ]
  },
  {
   "cell_type": "code",
   "execution_count": null,
   "id": "78cbf2be-2b0a-4e5d-843c-5854c0b70b72",
   "metadata": {},
   "outputs": [],
   "source": [
    "# Resumo estatístico de todas as variáveis\n",
    "df_dsa.describe(include = 'all')"
   ]
  },
  {
   "cell_type": "code",
   "execution_count": null,
   "id": "5d7b62c4-905b-43cd-99bd-71bfdc906da7",
   "metadata": {},
   "outputs": [],
   "source": [
    "# Função para o plot da relação da variável alvo com alguns atributos\n",
    "def dsa_get_pairs(data, alvo, atributos, n):\n",
    "    \n",
    "    # Grupos de linhas com 3 (n) gráficos por linha\n",
    "    grupos_linhas = [atributos[i:i+n] for i in range(0, len(atributos), n)]\n",
    "\n",
    "    # Loop pelos grupos de linhas para criar cada pair plot\n",
    "    for linha in grupos_linhas:\n",
    "        plot = sns.pairplot(x_vars = linha, y_vars = alvo, data = data, kind = \"reg\", height = 3)\n",
    "\n",
    "    return"
   ]
  },
  {
   "cell_type": "code",
   "execution_count": null,
   "id": "4bce9174-2b19-4714-9948-660aa51d5c0e",
   "metadata": {},
   "outputs": [],
   "source": [
    "# Variável alvo\n",
    "alvo = ['life_expectancy']"
   ]
  },
  {
   "cell_type": "code",
   "execution_count": null,
   "id": "59028f9e-7e41-491c-a02d-f7b727dddee1",
   "metadata": {},
   "outputs": [],
   "source": [
    "# Vamos usar alguns atributos\n",
    "atributos = ['population', 'hepatitisB', 'gdp', 'total_expenditure', 'alcohol', 'school'] "
   ]
  },
  {
   "cell_type": "code",
   "execution_count": null,
   "id": "197c0e11-43fc-4486-a4fb-f1308ca0c466",
   "metadata": {},
   "outputs": [],
   "source": [
    "# Descrição da variável\n",
    "dsa_df_dict['population']"
   ]
  },
  {
   "cell_type": "code",
   "execution_count": null,
   "id": "90d6e230-cdbe-4536-9c05-3a906a1854ad",
   "metadata": {},
   "outputs": [],
   "source": [
    "# Descrição da variável\n",
    "dsa_df_dict['hepatitisB']"
   ]
  },
  {
   "cell_type": "code",
   "execution_count": null,
   "id": "38369110-05c1-4f0b-b978-56043ae52b9b",
   "metadata": {},
   "outputs": [],
   "source": [
    "# Descrição da variável\n",
    "dsa_df_dict['gdp']"
   ]
  },
  {
   "cell_type": "code",
   "execution_count": null,
   "id": "de1084d2-753b-4139-a6f1-f46eb84e465f",
   "metadata": {},
   "outputs": [],
   "source": [
    "# Descrição da variável\n",
    "dsa_df_dict['total_expenditure']"
   ]
  },
  {
   "cell_type": "code",
   "execution_count": null,
   "id": "27670ea7-21c8-475a-89ae-f934d04f8908",
   "metadata": {},
   "outputs": [],
   "source": [
    "# Descrição da variável\n",
    "dsa_df_dict['alcohol']"
   ]
  },
  {
   "cell_type": "code",
   "execution_count": null,
   "id": "24fb9dd2-857d-46b0-a824-5a3faf3299ad",
   "metadata": {},
   "outputs": [],
   "source": [
    "# Descrição da variável\n",
    "dsa_df_dict['school']"
   ]
  },
  {
   "cell_type": "code",
   "execution_count": null,
   "id": "204f6bfe-9a35-4241-bc7f-41f0cbe6e09e",
   "metadata": {},
   "outputs": [],
   "source": [
    "# Verificando outliers\n",
    "dsa_get_pairs(df_dsa, alvo, atributos, 3)"
   ]
  },
  {
   "cell_type": "markdown",
   "id": "98630e2a-c602-4297-ad60-db0b00f8b0a8",
   "metadata": {},
   "source": [
    "## Detectando Valores Ausentes"
   ]
  },
  {
   "cell_type": "code",
   "execution_count": null,
   "id": "6a1f3c44-c0f0-42f3-8cc3-a336dc426de1",
   "metadata": {},
   "outputs": [],
   "source": [
    "# Visualizando o total de linhas por coluna\n",
    "df_dsa.count()"
   ]
  },
  {
   "cell_type": "code",
   "execution_count": null,
   "id": "65d47e96-dbb0-4451-8fa3-a661cf285cb9",
   "metadata": {},
   "outputs": [],
   "source": [
    "# Extraindo o total de valores ausentes por coluna\n",
    "valores_ausentes = df_dsa.isnull().sum().sort_values(ascending = False)"
   ]
  },
  {
   "cell_type": "code",
   "execution_count": null,
   "id": "53ca9131-192d-4c55-b90e-6d4241eaf15e",
   "metadata": {},
   "outputs": [],
   "source": [
    "print(valores_ausentes)"
   ]
  },
  {
   "cell_type": "code",
   "execution_count": null,
   "id": "7e832ab6-a152-49ed-9893-4c380c46e3bf",
   "metadata": {},
   "outputs": [],
   "source": [
    "# Calculando o percentual de valores ausentes\n",
    "valores_ausentes_percent = valores_ausentes[valores_ausentes > 0] / df_dsa.shape[0] "
   ]
  },
  {
   "cell_type": "code",
   "execution_count": null,
   "id": "c777ba17-e592-4bf0-8594-f19bba231e7a",
   "metadata": {},
   "outputs": [],
   "source": [
    "print(f'{valores_ausentes_percent * 100} %')"
   ]
  },
  {
   "cell_type": "markdown",
   "id": "e44ace83-27ac-4564-a867-074888edf06c",
   "metadata": {},
   "source": [
    "## Detectando Outliers\n",
    "\n",
    "Vamos analisar as variáveis que têm o maior percentual de valores ausentes."
   ]
  },
  {
   "cell_type": "code",
   "execution_count": null,
   "id": "542a0c06-2dd1-402d-9f14-d3005aae633a",
   "metadata": {},
   "outputs": [],
   "source": [
    "# Atributos com mais de 5% de valores ausentes\n",
    "atributos = ['population', 'hepatitisB', 'gdp', 'total_expenditure', 'alcohol', 'school'] "
   ]
  },
  {
   "cell_type": "code",
   "execution_count": null,
   "id": "e4891c0c-106b-4a60-9e87-a3ccb3a38383",
   "metadata": {},
   "outputs": [],
   "source": [
    "# Cria um novo dataframe\n",
    "novo_dataframe = df_dsa[atributos]"
   ]
  },
  {
   "cell_type": "code",
   "execution_count": null,
   "id": "a1db1625-3644-454c-a6a9-a37252defcf3",
   "metadata": {},
   "outputs": [],
   "source": [
    "# Identificação de outliers através do método do IQR (Interquartile Range)\n",
    "Q1 = novo_dataframe.quantile(0.25)\n",
    "Q3 = novo_dataframe.quantile(0.75)\n",
    "IQR = Q3 - Q1"
   ]
  },
  {
   "cell_type": "code",
   "execution_count": null,
   "id": "679bfee1-008d-4ef6-b10a-c2f38b703461",
   "metadata": {},
   "outputs": [],
   "source": [
    "# Definir outliers como aqueles valores que estão fora do intervalo [Q1 - 1.5 * IQR, Q3 + 1.5 * IQR]\n",
    "outliers = ((novo_dataframe < (Q1 - 1.5 * IQR)) | (novo_dataframe > (Q3 + 1.5 * IQR))).sum()"
   ]
  },
  {
   "cell_type": "code",
   "execution_count": null,
   "id": "357c1963-d753-4044-a018-fd6ab4b64a0c",
   "metadata": {},
   "outputs": [],
   "source": [
    "# Total de outliers\n",
    "outliers"
   ]
  },
  {
   "cell_type": "code",
   "execution_count": null,
   "id": "b2cabebe-92e0-4190-abc7-d8a4df583f05",
   "metadata": {},
   "outputs": [],
   "source": [
    "# Cria um resumo com os outliers\n",
    "outliers_summary = pd.DataFrame({'Outliers': outliers, 'Percentual': (outliers / len(novo_dataframe)) * 100})"
   ]
  },
  {
   "cell_type": "code",
   "execution_count": null,
   "id": "3049b52c-da93-46e2-beeb-10309a3d39e3",
   "metadata": {},
   "outputs": [],
   "source": [
    "# Retorna os resultados quando o valor for maior do que zero\n",
    "outliers_summary[outliers_summary['Outliers'] > 0]"
   ]
  },
  {
   "cell_type": "code",
   "execution_count": null,
   "id": "36b0bcd9-6a56-4b69-b5dd-40538a382265",
   "metadata": {},
   "outputs": [],
   "source": [
    "# Definindo os limites para filtrar os outliers\n",
    "limite_inferior = Q1 - 1.5 * IQR\n",
    "limite_superior = Q3 + 1.5 * IQR"
   ]
  },
  {
   "cell_type": "code",
   "execution_count": null,
   "id": "7c648771-556f-44c7-9e79-19076d27a678",
   "metadata": {},
   "outputs": [],
   "source": [
    "# Filtrando os outliers\n",
    "novo_df_dsa = df_dsa[~((novo_dataframe < limite_inferior) | (novo_dataframe > limite_superior)).any(axis = 1)]"
   ]
  },
  {
   "cell_type": "markdown",
   "id": "625d45f0-13dc-4e26-bf56-641581c086d6",
   "metadata": {},
   "source": [
    "Considerações Importantes:\n",
    "\n",
    "- A regra do 1.5 IQR é um método comum para identificar outliers, mas não é uma regra rígida.\n",
    "- A escolha do multiplicador (1.5) pode variar em diferentes contextos e conjuntos de dados.\n",
    "- É importante analisar visualmente a distribuição dos dados para confirmar a presença de outliers e ajustar os limites, se necessário.\n",
    "- Outras técnicas para identificar outliers podem ser utilizadas em conjunto com a regra do IQR."
   ]
  },
  {
   "cell_type": "code",
   "execution_count": null,
   "id": "1b54b7f8-95ea-4896-abf9-167c21e8b204",
   "metadata": {},
   "outputs": [],
   "source": [
    "# Shape\n",
    "novo_df_dsa.shape"
   ]
  },
  {
   "cell_type": "code",
   "execution_count": null,
   "id": "789fd1a5-1aa4-4f38-826f-d204e247d897",
   "metadata": {},
   "outputs": [],
   "source": [
    "# Resumo estatístico\n",
    "novo_df_dsa.describe()"
   ]
  },
  {
   "cell_type": "code",
   "execution_count": null,
   "id": "fe414c07-89c1-45e8-8675-2e07a61cb1ff",
   "metadata": {},
   "outputs": [],
   "source": [
    "# Valor máximo da população\n",
    "novo_df_dsa.population.max()"
   ]
  },
  {
   "cell_type": "code",
   "execution_count": null,
   "id": "c345f51b-77dd-4afe-b59e-de7dd8c1ca0a",
   "metadata": {},
   "outputs": [],
   "source": [
    "# Verificando outliers\n",
    "dsa_get_pairs(novo_df_dsa, alvo, atributos, 3)"
   ]
  },
  {
   "cell_type": "code",
   "execution_count": null,
   "id": "789f63ff-01be-4974-891e-d364704f8cce",
   "metadata": {},
   "outputs": [],
   "source": [
    "## Tratamento de Valores Ausentes\n",
    "\n",
    "Decisão: Preencher os valores ausentes com a mediana da variável.\n",
    "\n",
    "Justificativa: Veja o videobook no Capítulo 10 do curso."
   ]
  },
  {
   "cell_type": "code",
   "execution_count": null,
   "id": "58c6a96f-e95c-4472-8e98-e4d4a1a9aed8",
   "metadata": {},
   "outputs": [],
   "source": [
    "# Verificando o total de valores ausentes\n",
    "valores_ausentes = novo_df_dsa.isnull().sum().sort_values(ascending = False)"
   ]
  },
  {
   "cell_type": "code",
   "execution_count": null,
   "id": "aa479ec0-3b23-4a60-8632-3247e4045d5b",
   "metadata": {},
   "outputs": [],
   "source": [
    "# Checando percentual de valores ausentes\n",
    "valores_ausentes_percent = valores_ausentes[valores_ausentes > 0] / novo_df_dsa.shape[0] \n",
    "print(f'{valores_ausentes_percent * 100} %')"
   ]
  },
  {
   "cell_type": "code",
   "execution_count": null,
   "id": "9e7feece-0c92-4cd8-a693-d906bd0065d1",
   "metadata": {},
   "outputs": [],
   "source": [
    "# Checando percentual de valores ausentes\n",
    "valores_ausentes_percent = valores_ausentes[valores_ausentes > 0] / novo_df_dsa.shape[0] \n",
    "print(f'{valores_ausentes_percent * 100} %')"
   ]
  },
  {
   "cell_type": "code",
   "execution_count": null,
   "id": "30d5b293-c9a6-4fc7-944f-3d319523f582",
   "metadata": {},
   "outputs": [],
   "source": [
    "# Função para o Replace das linhas vazias com a mediana\n",
    "def impute_median(dados):\n",
    "    return dados.fillna(dados.median())"
   ]
  },
  {
   "cell_type": "code",
   "execution_count": null,
   "id": "2c4e3d0c-5610-4bac-b644-c60b7f089015",
   "metadata": {},
   "outputs": [],
   "source": [
    "novo_df_dsa.describe()"
   ]
  },
  {
   "cell_type": "code",
   "execution_count": null,
   "id": "7f480b86-a2f8-41f6-8b80-7f16a6afcc74",
   "metadata": {},
   "outputs": [],
   "source": [
    "# Removendo valores missing (observe as diferentes formas de notação do lado esquerdo do sinal de igual)\n",
    "novo_df_dsa.loc[:,'population'] = novo_df_dsa['population'].transform(impute_median)\n",
    "novo_df_dsa.hepatitisB = novo_df_dsa['hepatitisB'].transform(impute_median)\n",
    "novo_df_dsa.alcohol = novo_df_dsa['alcohol'].transform(impute_median)\n",
    "novo_df_dsa.total_expenditure = novo_df_dsa['total_expenditure'].transform(impute_median)\n",
    "novo_df_dsa.gdp = novo_df_dsa['gdp'].transform(impute_median)\n",
    "novo_df_dsa.school = novo_df_dsa['school'].transform(impute_median)"
   ]
  },
  {
   "cell_type": "code",
   "execution_count": null,
   "id": "6659d275-a5e4-4779-9aee-198f990ac5d5",
   "metadata": {},
   "outputs": [],
   "source": [
    "# Verificando o total de valores ausentes\n",
    "valores_ausentes = novo_df_dsa.isnull().sum().sort_values(ascending = False)"
   ]
  },
  {
   "cell_type": "code",
   "execution_count": null,
   "id": "750507f0-c473-4687-b65b-0198f40cd31b",
   "metadata": {},
   "outputs": [],
   "source": [
    "# Checando percentual de valores missing\n",
    "valores_ausentes_percent = valores_ausentes[valores_ausentes > 0] / novo_df_dsa.shape[0] \n",
    "print(f'{valores_ausentes_percent * 100} %')"
   ]
  },
  {
   "cell_type": "code",
   "execution_count": null,
   "id": "4ebee4a1-7104-4866-9aff-5dd256ac5fd1",
   "metadata": {},
   "outputs": [],
   "source": [
    "# Remove registros com valores nulos\n",
    "novo_df_dsa.dropna(inplace = True)"
   ]
  },
  {
   "cell_type": "code",
   "execution_count": null,
   "id": "5dc87a21-fd6d-4814-872d-30e2e9cdc049",
   "metadata": {},
   "outputs": [],
   "source": [
    "# Verificando o total de valores ausentes\n",
    "valores_ausentes = novo_df_dsa.isnull().sum().sort_values(ascending = False)"
   ]
  },
  {
   "cell_type": "code",
   "execution_count": null,
   "id": "417ef4d0-fac7-496d-8c30-84a9509cff19",
   "metadata": {},
   "outputs": [],
   "source": [
    "# Checando percentual de valores missing\n",
    "valores_ausentes_percent = valores_ausentes[valores_ausentes > 0] / novo_df_dsa.shape[0] \n",
    "print(f'{valores_ausentes_percent * 100} %')"
   ]
  },
  {
   "cell_type": "code",
   "execution_count": null,
   "id": "60795453-3b8e-47fc-a645-983e0e8c66b9",
   "metadata": {},
   "outputs": [],
   "source": [
    "# Shape\n",
    "novo_df_dsa.shape"
   ]
  },
  {
   "cell_type": "code",
   "execution_count": null,
   "id": "ae51344c-1073-4e83-8e81-b6e9f1bdf242",
   "metadata": {},
   "outputs": [],
   "source": [
    "# Info\n",
    "novo_df_dsa.info()"
   ]
  },
  {
   "cell_type": "markdown",
   "id": "78b540cf-8739-4773-b7ae-55051ef947ca",
   "metadata": {},
   "source": [
    "Usaremos indicadores socioeconômicos independentes de identificação do país e do status de desenvolvimento. Vamos remover as variáveis categóricas."
   ]
  },
  {
   "cell_type": "code",
   "execution_count": null,
   "id": "357ecb2a-b65e-4cd6-90e4-34938c195df8",
   "metadata": {},
   "outputs": [],
   "source": [
    "# Drop das variáveis\n",
    "novo_df_dsa.drop(['country', 'status'], axis = 1, inplace = True)"
   ]
  },
  {
   "cell_type": "code",
   "execution_count": null,
   "id": "5962c18e-54df-4cea-8a34-ce6d05d5d38e",
   "metadata": {},
   "outputs": [],
   "source": [
    "# Shape do dataset original\n",
    "dsa_dados.shape"
   ]
  },
  {
   "cell_type": "code",
   "execution_count": null,
   "id": "7e192021-8995-4424-adf7-8d9001f38153",
   "metadata": {},
   "outputs": [],
   "source": [
    "# Shape do dataset após a limpeza\n",
    "novo_df_dsa.shape"
   ]
  },
  {
   "cell_type": "markdown",
   "id": "01711625-7d7a-4a44-8b97-168fb49c7fc5",
   "metadata": {},
   "source": [
    "## Engenharia de Atributos"
   ]
  },
  {
   "cell_type": "markdown",
   "id": "c4f886b4-76ae-4f71-b4d5-c8997c1414f5",
   "metadata": {},
   "source": [
    "> As variáveis alcohol e bmi têm uma relação direta e natural. Vamos criar uma nova variável chamada life_style com a combinação dessas duas variáveis."
   ]
  },
  {
   "cell_type": "code",
   "execution_count": null,
   "id": "815955d8-da00-4355-bb00-f67b271679e8",
   "metadata": {},
   "outputs": [],
   "source": [
    "# Amostra dos dados\n",
    "novo_df_dsa.head()"
   ]
  },
  {
   "cell_type": "code",
   "execution_count": null,
   "id": "2650e4ca-3c15-4fa1-a727-373112e7d8a2",
   "metadata": {},
   "outputs": [],
   "source": [
    "# Criando a nova variável\n",
    "novo_df_dsa['lifestyle'] = 0\n",
    "novo_df_dsa.lifestyle = novo_df_dsa['bmi'] * novo_df_dsa['alcohol']"
   ]
  },
  {
   "cell_type": "code",
   "execution_count": null,
   "id": "d788319c-0e01-4124-a9fd-aa6b3b8b226d",
   "metadata": {},
   "outputs": [],
   "source": [
    "# Amostra dos dados\n",
    "novo_df_dsa.head()"
   ]
  },
  {
   "cell_type": "code",
   "execution_count": null,
   "id": "a49e5ef7-0d5e-4f8f-8f61-e9e6450dbcf8",
   "metadata": {},
   "outputs": [],
   "source": [
    "# Resumo estatístico\n",
    "novo_df_dsa.lifestyle.describe()"
   ]
  },
  {
   "cell_type": "code",
   "execution_count": null,
   "id": "cc969933-bed4-4162-b85b-9b4f5b16c892",
   "metadata": {},
   "outputs": [],
   "source": [
    "# Verifique se há valores ausentes\n",
    "valores_ausentes = novo_df_dsa.isnull().sum().sort_values(ascending = False)"
   ]
  },
  {
   "cell_type": "code",
   "execution_count": null,
   "id": "08f5fff1-f510-40ca-b2dd-2de4d826c260",
   "metadata": {},
   "outputs": [],
   "source": [
    "# Visualiza o resultado\n",
    "valores_ausentes"
   ]
  },
  {
   "cell_type": "code",
   "execution_count": null,
   "id": "24d21721-fb2e-4fce-b20f-5d255d1b555c",
   "metadata": {},
   "outputs": [],
   "source": [
    "# Tipos de dados\n",
    "novo_df_dsa.dtypes"
   ]
  },
  {
   "cell_type": "markdown",
   "id": "8d16ba7d-000b-435a-83c5-bf4b4efafebc",
   "metadata": {},
   "source": [
    "## Análise de Correlação Para Verificar Multicolinearidade\n",
    "\n",
    "Queremos que as variáveis preditoras tenham uma alta correlação com a variável alvo, mas não queremos que as variáveis preditoras tenham alta correlação entre si. Se houver alta correlação entre as variáveis preditoras isso é chamado de multicolinearidade e fere uma das suposições da regressão.\n",
    "\n",
    "A correlação é uma medida da relação entre as variáveis. O coeficiente de correlação é um valor de -1 a +1, sendo:\n",
    "\n",
    "**-1 indica alta correlação negativa.**\n",
    "\n",
    "**+1 indica ata correlação positiva.**\n",
    "\n",
    "**0 indica que não há correlação.**\n",
    "\n",
    "Correlação não implica causalidade. Por exemplo: Sempre que aumenta o consumo de sorvete aumenta a presença de tubarões na praia. Provavelmente ambos os eventos ocorrem no verão e estão correlacionados, mas isso não significa que um evento causa o outro. Para afirmar isso teríamos que fazer uma análise de causalidade."
   ]
  },
  {
   "cell_type": "code",
   "execution_count": null,
   "id": "444b42bc-c1cb-4cfe-912d-ab6c5b6538bc",
   "metadata": {},
   "outputs": [],
   "source": [
    "# Correlação das variáveis numéricas no conjunto de dados\n",
    "novo_df_dsa.corr()"
   ]
  },
  {
   "cell_type": "markdown",
   "id": "64f20ae8-4616-41b1-a045-560e4af009a1",
   "metadata": {},
   "source": [
    "Analisar a tabela acima não é muito agradável. Vamos usar nossas habilidades em programação Python e construir uma função para filtrar e mostrar somente o que interessa para nossa análise."
   ]
  },
  {
   "cell_type": "code",
   "execution_count": null,
   "id": "47f1fe34-5639-40b6-9c0f-da0d29dede37",
   "metadata": {},
   "outputs": [],
   "source": [
    "# Função para filtrar e visualizar correlação\n",
    "def dsa_filtrar_e_visualizar_correlacao(df, threshold, drop_column = None):\n",
    "\n",
    "    # Calcula a matriz de correlação\n",
    "    corr = df.corr()\n",
    "    \n",
    "    # Aplica os filtros de limiar, excluindo a correlação perfeita\n",
    "    filtro = (abs(corr) >= threshold) & (corr != 1.0)\n",
    "    df_filtrado = corr.where(filtro).dropna(how = 'all').dropna(axis = 1, how = 'all')\n",
    "    \n",
    "    # Remove a coluna e linha especificada, se fornecido\n",
    "    if drop_column:\n",
    "        df_filtrado = df_filtrado.drop(index = drop_column, \n",
    "                                       errors = 'ignore').drop(columns = drop_column, \n",
    "                                                               errors = 'ignore')\n",
    "    \n",
    "    # Visualiza o resultado com um heatmap somente com as variáveis que satisfazem o critério de filtro\n",
    "    plt.figure(figsize = (8, 6))\n",
    "    sns.heatmap(df_filtrado, annot = True, cmap = 'coolwarm', center = 0)\n",
    "    plt.show()"
   ]
  },
  {
   "cell_type": "code",
   "execution_count": null,
   "id": "ba6ecc08-5150-466e-a6e4-adc0992b67ee",
   "metadata": {},
   "outputs": [],
   "source": [
    "# Executa a função\n",
    "dsa_filtrar_e_visualizar_correlacao(novo_df_dsa, threshold = 0.3, drop_column = None)"
   ]
  },
  {
   "cell_type": "markdown",
   "id": "348e309c-f914-4c30-a88e-0e44bee253b3",
   "metadata": {},
   "source": [
    "As variáveis adult_mortality, alcohol, bmi, polio, diphtheria, hiv, gdp, thinness_till19, thinness_till9, school e lifestyle atendem ao nosso critério. São as variáveis preditoras com maior correlação com a variável alvo.\n",
    "\n",
    "Agora devemos checar uma das suposições da Regressão Linear e identificar possíveis problemas de multicolinearidade (alta correlação entre as variáveis preditoras). Com base nesse critério eliminamos uma de duas variáveis preditoras altamente correlacionadas. Vamos considerar 0.65 como marca de corte. Vamos filtrar mais uma vez a matriz de correlação."
   ]
  },
  {
   "cell_type": "code",
   "execution_count": null,
   "id": "acd5ac8f-c768-4f9a-adcc-53655a3fb746",
   "metadata": {},
   "outputs": [],
   "source": [
    "# Executa a função\n",
    "dsa_filtrar_e_visualizar_correlacao(novo_df_dsa, threshold = 0.55, drop_column = 'life_expectancy')"
   ]
  },
  {
   "cell_type": "markdown",
   "id": "16af971a-5f6b-4814-93f2-1a6194edea38",
   "metadata": {},
   "source": [
    "Observe a alta correlação entre algumas variáveis preditoras."
   ]
  },
  {
   "cell_type": "markdown",
   "id": "fcc91ca2-dc65-4e98-a866-6132465eb090",
   "metadata": {},
   "source": [
    "### Decisão\n",
    "\n",
    "**Primeiro Filtro - Correlação com a Variável Alvo**\n",
    "\n",
    "As variáveis adult_mortality, alcohol, bmi, polio, diphtheria, hiv, gdp, thinness_till19, thinness_till9, school e lifestyle atendem ao nosso primeiro critério. São as variáveis preditoras com maior correlação com a variável alvo.\n",
    "\n",
    "**Segundo Filtro - Multicolinearidade**\n",
    "\n",
    "Com base no filtro de multicolinearidade, as variáveis adult_mortality, diphtheria, hiv, gdp, thinness_till19, school e lifestyle serão as variáveis mantidas para a modelagem estatística.\n",
    "\n",
    "Nota: Manter a variável bmi ao invés da variável lifestyle também é uma decisão válida! "
   ]
  },
  {
   "cell_type": "code",
   "execution_count": null,
   "id": "d2d32885-c13c-4f2e-ab3b-59cf2a9c793b",
   "metadata": {},
   "outputs": [],
   "source": [
    "# Preparando o novo dataset\n",
    "novo_df_final = pd.DataFrame({'life_expectancy': novo_df_dsa['life_expectancy'],\n",
    "                              'adult_mortality': novo_df_dsa['adult_mortality'],\n",
    "                              'diphtheria': novo_df_dsa['diphtheria'],\n",
    "                              'hiv': novo_df_dsa['hiv'],\n",
    "                              'gdp': novo_df_dsa['gdp'],\n",
    "                              'thinness_till19': novo_df_dsa['thinness_till19'],\n",
    "                              'school': novo_df_dsa['school'],\n",
    "                              'lifestyle': novo_df_dsa['lifestyle'],})"
   ]
  },
  {
   "cell_type": "code",
   "execution_count": null,
   "id": "3bfbc31e-14a2-4dd5-a423-ef8c2518a7d4",
   "metadata": {},
   "outputs": [],
   "source": [
    "novo_df_final.head()"
   ]
  },
  {
   "cell_type": "code",
   "execution_count": null,
   "id": "c9823e33-63e0-4c5f-8745-45394b64a240",
   "metadata": {},
   "outputs": [],
   "source": [
    "# Verifique se há valores ausentes\n",
    "missing_values = novo_df_final.isnull().sum().sort_values(ascending = False)"
   ]
  },
  {
   "cell_type": "code",
   "execution_count": null,
   "id": "886e1304-1815-4f33-8327-82a7715c2083",
   "metadata": {},
   "outputs": [],
   "source": [
    "missing_values"
   ]
  },
  {
   "cell_type": "code",
   "execution_count": null,
   "id": "192fbb33-bc9e-4419-8baa-e940d8233d18",
   "metadata": {},
   "outputs": [],
   "source": [
    "# Visualizando o total de linhas por coluna\n",
    "novo_df_final.count()"
   ]
  },
  {
   "cell_type": "code",
   "execution_count": null,
   "id": "16697f6e-97d9-42f9-be46-7550c6585368",
   "metadata": {},
   "outputs": [],
   "source": [
    "# Dataset\n",
    "novo_df_final.dtypes"
   ]
  },
  {
   "cell_type": "code",
   "execution_count": null,
   "id": "79c46e25-7717-4260-846b-76936c097176",
   "metadata": {},
   "outputs": [],
   "source": [
    "novo_df_final.shape"
   ]
  },
  {
   "cell_type": "markdown",
   "id": "2f6aefd6-86e8-4bac-9460-07895b9e439d",
   "metadata": {},
   "source": [
    "Será que as variáveis que temos até aqui são todas relevantes para prever a variável alvo? Só tem uma forma de saber: verificando. E usaremos Machine Learning para isso."
   ]
  },
  {
   "cell_type": "markdown",
   "id": "cc47706d-975e-4949-88ee-8699e892ec34",
   "metadata": {},
   "source": [
    "## Usando Machine Learning Para Encontrar as Variáveis Mais Relevantes\n",
    "\n",
    "O algoritmo RandomForest, que é um tipo de algoritmo de aprendizado de máquina baseado em árvores de decisão, é considerado uma boa opção para encontrar as variáveis mais relevantes (ou \"importantes\") em um dataset por várias razões:\n",
    "\n",
    "Redução de variância: O RandomForest combina várias árvores de decisão, cada uma construída com uma amostra aleatória do dataset. Isso ajuda a reduzir a variância e a evitar o overfitting, o que significa que o modelo pode generalizar melhor para novos dados.\n",
    "\n",
    "Importância de variáveis: Durante a construção das árvores, o RandomForest avalia a importância de cada variável com base em quanto ela contribui para a melhoria da pureza dos nós (por exemplo, usando o ganho de informação ou a redução da impureza de Gini). Essa avaliação é agregada em todas as árvores para fornecer uma medida de importância para cada variável.\n",
    "\n",
    "Robustez a ruídos e outliers: Como o RandomForest é baseado em árvores de decisão, ele é naturalmente robusto a ruídos e outliers nos dados. Isso o torna uma opção confiável para identificar variáveis importantes, mesmo em datasets com essas características.\n",
    "\n",
    "Facilidade de interpretação: As medidas de importância de variáveis geradas pelo RandomForest são fáceis de interpretar, o que facilita a compreensão de quais variáveis são mais relevantes para a tarefa em questão.\n",
    "\n",
    "Flexibilidade: O RandomForest pode lidar com diferentes tipos de dados (numéricos, categóricos) e é adequado para uma variedade de tarefas de aprendizado de máquina, como classificação e regressão.\n",
    "\n",
    "Por essas razões, o RandomForest é frequentemente utilizado para selecionar as variáveis mais relevantes em um dataset, o que pode ajudar a simplificar o modelo e melhorar seu desempenho em tarefas de predição."
   ]
  },
  {
   "cell_type": "code",
   "execution_count": null,
   "id": "1140ba1c-5b7c-4db0-aa07-0464592a66b9",
   "metadata": {},
   "outputs": [],
   "source": [
    "# Separando variáveis independentes (X) e dependente (y)\n",
    "X = novo_df_final.drop('life_expectancy', axis = 1)\n",
    "y = novo_df_final['life_expectancy']"
   ]
  },
  {
   "cell_type": "code",
   "execution_count": null,
   "id": "814bebcf-a04a-4420-9567-0122bce54a15",
   "metadata": {},
   "outputs": [],
   "source": [
    "# Dividindo os dados em treino e teste\n",
    "X_train, X_test, y_train, y_test = train_test_split(X, y, test_size = 0.2, random_state = 42)"
   ]
  },
  {
   "cell_type": "code",
   "execution_count": null,
   "id": "589c3c45-d434-4af6-9618-51f57c41b483",
   "metadata": {},
   "outputs": [],
   "source": [
    "# Inicializando e treinando o RandomForestRegressor\n",
    "modelo = RandomForestRegressor(n_estimators = 100, random_state = 42)\n",
    "modelo.fit(X_train, y_train)"
   ]
  },
  {
   "cell_type": "code",
   "execution_count": null,
   "id": "64f231d9-e0d7-4ff9-8c2c-fa199c45a0a3",
   "metadata": {},
   "outputs": [],
   "source": [
    "# Fazendo previsões com o conjunto de teste\n",
    "y_pred = modelo.predict(X_test)"
   ]
  },
  {
   "cell_type": "code",
   "execution_count": null,
   "id": "1259f33b-f296-4b73-b709-6a30c70b31bc",
   "metadata": {},
   "outputs": [],
   "source": [
    "# Avaliando o modelo\n",
    "mse = metrics.mean_squared_error(y_test, y_pred)\n",
    "rmse = np.sqrt(mse)"
   ]
  },
  {
   "cell_type": "code",
   "execution_count": null,
   "id": "aa1d60db-3806-454d-a9b1-70b45a0c62eb",
   "metadata": {},
   "outputs": [],
   "source": [
    "print(f\"RMSE: {rmse}\")"
   ]
  },
  {
   "cell_type": "code",
   "execution_count": null,
   "id": "0e253563-770e-4376-82ae-e383e3e39980",
   "metadata": {},
   "outputs": [],
   "source": [
    "print('R2 Score:', metrics.r2_score(y_test, y_pred))"
   ]
  },
  {
   "cell_type": "code",
   "execution_count": null,
   "id": "30192004-5a34-445d-a844-baee2c0fc15b",
   "metadata": {},
   "outputs": [],
   "source": [
    "# Identificando a importância das variáveis\n",
    "importancias = modelo.feature_importances_\n",
    "variaveis = X.columns"
   ]
  },
  {
   "cell_type": "code",
   "execution_count": null,
   "id": "a0784ad0-e4ec-4698-bbaf-ae1950275c55",
   "metadata": {},
   "outputs": [],
   "source": [
    "# Dataframe das variáveis mais relevantes\n",
    "importancias_df = pd.DataFrame({'Variável': variaveis, \n",
    "                                'Importância': importancias}).sort_values(by = 'Importância', \n",
    "                                                                          ascending = False)"
   ]
  },
  {
   "cell_type": "code",
   "execution_count": null,
   "id": "6245cbee-40f5-4e4d-a92a-7b9ab71082b6",
   "metadata": {},
   "outputs": [],
   "source": [
    "print(importancias_df)"
   ]
  },
  {
   "cell_type": "markdown",
   "id": "38792672-0e0a-418f-901e-236b039d353d",
   "metadata": {},
   "source": [
    "Os resultados mostram a importância relativa das variáveis no modelo RandomForest. A importância é uma medida de quanto cada variável contribui para a precisão do modelo. Aqui está uma interpretação dos resultados, ordenados do mais ao menos importante:\n",
    "\n",
    "**HIV**: Esta é a variável mais importante, com uma contribuição de aproximadamente 60.71% para a performance do modelo. Isso indica que a prevalência do HIV no conjunto de dados tem o maior impacto na expectativa de vida, o que é consistente com o entendimento geral de que o HIV é uma grave questão de saúde pública que pode reduzir significativamente a expectativa de vida.\n",
    "\n",
    "**Adult Mortality**: A mortalidade adulta é a segunda variável mais importante, contribuindo com cerca de 22.42% para a precisão do modelo. Isso sugere que as taxas de mortalidade entre adultos têm um impacto significativo na determinação da expectativa de vida, o que faz sentido, pois taxas mais altas de mortalidade adulta geralmente indicam condições de saúde e de vida piores.\n",
    "\n",
    "**School**: A escolaridade aparece como a terceira variável em termos de importância, com 7.32%. Isso pode refletir o papel da educação na promoção de estilos de vida saudáveis e no acesso a melhores cuidados de saúde, ambos fatores que podem contribuir para uma maior expectativa de vida.\n",
    "\n",
    "**Thinness till 19**: A magreza até os 19 anos tem uma importância de 3.78%, indicando uma relação menor, mas ainda assim relevante, com a expectativa de vida. Isso pode estar relacionado a questões nutricionais e de saúde durante os anos formativos, que podem ter efeitos duradouros na saúde geral.\n",
    "\n",
    "**Lifestyle**: O estilo de vida tem uma contribuição de 3.12%, sugerindo que fatores relacionados ao estilo de vida, possivelmente capturados por esta variável, têm um impacto moderado na expectativa de vida.\n",
    "\n",
    "**Diphtheria**: A importância da taxa de vacinação contra a difteria é relativamente baixa. No entanto, isso pode refletir altas taxas de imunização ou a eficácia dos tratamentos disponíveis.\n",
    "\n",
    "**GDP**: O Produto Interno Bruto (PIB) tem a menor importância no modelo, com apenas 0.94%. Isso pode indicar que, dentro do conjunto de dados específico e no contexto das outras variáveis incluídas, a riqueza econômica do país é menos diretamente relacionada à expectativa de vida do que os fatores de saúde e educação.\n",
    "\n",
    "Vamos remover do dataset a variável menos relevante, gdp nesse caso."
   ]
  },
  {
   "cell_type": "code",
   "execution_count": null,
   "id": "8348b43d-732f-4f67-b48b-8c42fb98e848",
   "metadata": {},
   "outputs": [],
   "source": [
    "# Remove a coluna gdp\n",
    "novo_df_final = novo_df_final.drop('gdp', axis = 1)"
   ]
  },
  {
   "cell_type": "code",
   "execution_count": null,
   "id": "8ff938ee-4193-4896-912a-b042c0271807",
   "metadata": {},
   "outputs": [],
   "source": [
    "novo_df_final.head()"
   ]
  },
  {
   "cell_type": "markdown",
   "id": "6c815141-82f0-4741-8ced-17429fe29e0f",
   "metadata": {},
   "source": [
    "## Pré-Processamento dos Dados"
   ]
  },
  {
   "cell_type": "code",
   "execution_count": null,
   "id": "030714d7-6ec1-4dc9-94df-1c9721b190d5",
   "metadata": {},
   "outputs": [],
   "source": [
    "# Split dos dados em X e Y\n",
    "X = novo_df_final[['hiv', 'adult_mortality', 'school', 'thinness_till19', 'lifestyle', 'diphtheria']].values\n",
    "y = novo_df_final.life_expectancy.values.reshape(-1,1)"
   ]
  },
  {
   "cell_type": "code",
   "execution_count": null,
   "id": "c75cd86e-d543-44f2-8f18-10c58ecd4255",
   "metadata": {},
   "outputs": [],
   "source": [
    "# Split em treino e teste\n",
    "x_treino, x_teste, y_treino, y_teste = train_test_split(X, y, test_size = 0.2, random_state = 0)"
   ]
  },
  {
   "cell_type": "code",
   "execution_count": null,
   "id": "b1a51e3c-3a76-45e8-85bb-8b92e8aae5ab",
   "metadata": {},
   "outputs": [],
   "source": [
    "len(x_treino)"
   ]
  },
  {
   "cell_type": "code",
   "execution_count": null,
   "id": "7151028d-ee4c-4c50-8360-ed73ed2c604a",
   "metadata": {},
   "outputs": [],
   "source": [
    "len(y_treino)"
   ]
  },
  {
   "cell_type": "code",
   "execution_count": null,
   "id": "ac35eebe-0a52-482b-a941-9d1779ceee38",
   "metadata": {},
   "outputs": [],
   "source": [
    "len(y_teste)"
   ]
  },
  {
   "cell_type": "code",
   "execution_count": null,
   "id": "c385681f-9cd0-402c-aca5-723617547e70",
   "metadata": {},
   "outputs": [],
   "source": [
    "# Criamos o padronizador\n",
    "dsa_scaler = StandardScaler()"
   ]
  },
  {
   "cell_type": "code",
   "execution_count": null,
   "id": "a7a06aae-f77d-44d8-b482-97826d9fd593",
   "metadata": {},
   "outputs": [],
   "source": [
    "# Fazemos o Fit somente com dados de treino!!!\n",
    "dsa_scaler.fit(x_treino)"
   ]
  },
  {
   "cell_type": "code",
   "execution_count": null,
   "id": "f8e11a33-7e7f-46d5-84a3-6f46c06e984b",
   "metadata": {},
   "outputs": [],
   "source": [
    "# Aplicamos o scaler nos dados de treino e teste\n",
    "x_treino_scaled = dsa_scaler.transform(x_treino)\n",
    "x_teste_scaled = dsa_scaler.transform(x_teste)"
   ]
  },
  {
   "cell_type": "code",
   "execution_count": null,
   "id": "2da67f3d-f36b-464b-a9b5-a8edae254d88",
   "metadata": {},
   "outputs": [],
   "source": [
    "x_treino_scaled"
   ]
  },
  {
   "cell_type": "code",
   "execution_count": null,
   "id": "32b22ab6-b0fe-491f-8f00-9940afdfa19c",
   "metadata": {},
   "outputs": [],
   "source": [
    "x_treino_scaled.shape"
   ]
  },
  {
   "cell_type": "code",
   "execution_count": null,
   "id": "cbf73897-c856-4110-ad60-d3331c8d736d",
   "metadata": {},
   "outputs": [],
   "source": [
    "x_teste_scaled.shape"
   ]
  },
  {
   "cell_type": "markdown",
   "id": "14423386-b838-4f51-9f94-ea182485664b",
   "metadata": {},
   "source": [
    "## Modelagem Preditiva\n",
    "\n",
    "Vamos criar mais de uma versão do modelo e escolher o melhor modelo de acordo com as métricas."
   ]
  },
  {
   "cell_type": "markdown",
   "id": "1ea02c74-5a25-428e-a55f-bf6c91aee4a2",
   "metadata": {},
   "source": [
    "### Versão 1 do Modelo - Modelo Padrão Benchmark"
   ]
  },
  {
   "cell_type": "code",
   "execution_count": null,
   "id": "56d228c9-4311-4b75-9913-931afba8d842",
   "metadata": {},
   "outputs": [],
   "source": [
    "# Cria o modelo\n",
    "modelo_dsa_v1 = LinearRegression()"
   ]
  },
  {
   "cell_type": "code",
   "execution_count": null,
   "id": "6cf78030-2553-41d8-9613-03d480ccc096",
   "metadata": {},
   "outputs": [],
   "source": [
    "# Treinamento do modelo\n",
    "modelo_dsa_v1.fit(x_treino_scaled, y_treino)"
   ]
  },
  {
   "cell_type": "code",
   "execution_count": null,
   "id": "771af841-e2f6-4427-858a-292d9d4ce48f",
   "metadata": {},
   "outputs": [],
   "source": [
    "# O que o modelo aprendeu:\n",
    "print(\"Coeficientes: \\n\", modelo_dsa_v1.coef_)"
   ]
  },
  {
   "cell_type": "code",
   "execution_count": null,
   "id": "d150e6b0-dc23-4a41-b486-373f29cfecf5",
   "metadata": {},
   "outputs": [],
   "source": [
    "# Previsões com dados de treino\n",
    "y_pred_treino_v1 = modelo_dsa_v1.predict(x_treino_scaled)"
   ]
  },
  {
   "cell_type": "code",
   "execution_count": null,
   "id": "edeb79d1-ebb5-4780-b2e5-209d16f6448b",
   "metadata": {},
   "outputs": [],
   "source": [
    "# Print das métricas em treino\n",
    "print('Mean Absolute Error:', metrics.mean_absolute_error(y_treino, y_pred_treino_v1))\n",
    "print('Mean Squared Error:', metrics.mean_squared_error(y_treino, y_pred_treino_v1))\n",
    "print('Root Mean Squared Error:', np.sqrt(metrics.mean_squared_error(y_treino, y_pred_treino_v1)))\n",
    "print('R2 Score:', metrics.r2_score(y_treino, y_pred_treino_v1))"
   ]
  },
  {
   "cell_type": "markdown",
   "id": "6b5b8143-dd20-45a1-bf78-34ae001431ef",
   "metadata": {},
   "source": [
    "## Avaliação do Modelo\n",
    "\n",
    "Podemos calcular as métricas com os dados de treino como fizemos anteriormente, mas a avaliação do modelo sempre deve ser feita com dados que o modelo ainda não viu, dados de teste."
   ]
  },
  {
   "cell_type": "code",
   "execution_count": null,
   "id": "a2774a64-e62e-4322-8715-21eefc8a62d4",
   "metadata": {},
   "outputs": [],
   "source": [
    "# Previsões com dados de teste sem padronização (ERRADO!!!!!!!!!!)\n",
    "y_pred_teste_v1 = modelo_dsa_v1.predict(x_teste)"
   ]
  },
  {
   "cell_type": "code",
   "execution_count": null,
   "id": "de607a11-2375-4476-80a8-e73b398f586e",
   "metadata": {},
   "outputs": [],
   "source": [
    "# Dataframe com as previsões e valores reais\n",
    "df_previsoes = pd.DataFrame({'Valor_Real': y_teste.flatten(), 'Valor_Previsto': y_pred_teste_v1.flatten()})"
   ]
  },
  {
   "cell_type": "code",
   "execution_count": null,
   "id": "958265fa-4726-42c3-bec7-030448baaee4",
   "metadata": {},
   "outputs": [],
   "source": [
    "# Visualiza\n",
    "df_previsoes.head()"
   ]
  },
  {
   "cell_type": "code",
   "execution_count": null,
   "id": "cf9eea2c-b3ab-4ecb-9844-c692170489d2",
   "metadata": {},
   "outputs": [],
   "source": [
    "# Previsões com dados de teste com padronização (CORRETO!!!!!!!!)\n",
    "y_pred_teste_v1 = modelo_dsa_v1.predict(x_teste_scaled)"
   ]
  },
  {
   "cell_type": "code",
   "execution_count": null,
   "id": "adc6c930-ea26-43c5-ba6a-3161436f1165",
   "metadata": {},
   "outputs": [],
   "source": [
    "# Dataframe com as previsões e valores reais\n",
    "df_previsoes = pd.DataFrame({'Valor_Real': y_teste.flatten(), 'Valor_Previsto': y_pred_teste_v1.flatten()})"
   ]
  },
  {
   "cell_type": "code",
   "execution_count": null,
   "id": "38e3a80e-b002-404c-886e-b3b9adc21483",
   "metadata": {},
   "outputs": [],
   "source": [
    "# Visualiza\n",
    "df_previsoes.head()"
   ]
  },
  {
   "cell_type": "code",
   "execution_count": null,
   "id": "7d21117c-2b94-4fd8-a869-36538a68fbd4",
   "metadata": {},
   "outputs": [],
   "source": [
    "# Função para criar gráfico de dispersão\n",
    "def dsa_cria_scatter(x, y, title, xlabel, ylabel):\n",
    "    \n",
    "    # Figura e subplots\n",
    "    fig, ax = plt.subplots(figsize = (10, 6))\n",
    "    \n",
    "    # Scatter\n",
    "    ax.scatter(x, y, color = \"blue\", alpha = 0.3)\n",
    "\n",
    "    # Labels\n",
    "    ax.set_title(title)\n",
    "    ax.set_xlabel(xlabel)\n",
    "    ax.set_ylabel(ylabel)\n",
    "\n",
    "    ax.spines['top'].set_visible(False)\n",
    "    ax.spines['right'].set_visible(False)\n",
    "    \n",
    "    return"
   ]
  },
  {
   "cell_type": "code",
   "execution_count": null,
   "id": "ddaad899-df87-477b-b0bd-77754ab079b4",
   "metadata": {},
   "outputs": [],
   "source": [
    "# Plot das previsões\n",
    "dsa_cria_scatter(df_previsoes.Valor_Real, df_previsoes.Valor_Previsto, 'Modelo', 'Previsões', 'Reais')"
   ]
  },
  {
   "cell_type": "code",
   "execution_count": null,
   "id": "bc177e63-dfd7-4a7d-8aea-d6d7d6533b2d",
   "metadata": {},
   "outputs": [],
   "source": [
    "# Print das métricas com dados de teste\n",
    "print('Mean Absolute Error:', metrics.mean_absolute_error(y_teste, y_pred_teste_v1))\n",
    "print('Mean Squared Error:', metrics.mean_squared_error(y_teste, y_pred_teste_v1))\n",
    "print('Root Mean Squared Error:', np.sqrt(metrics.mean_squared_error(y_teste, y_pred_teste_v1)))\n",
    "print('R2 Score:', metrics.r2_score(y_teste, y_pred_teste_v1))"
   ]
  },
  {
   "cell_type": "markdown",
   "id": "5494f628-adf6-447e-add1-151f8df718a0",
   "metadata": {},
   "source": [
    "### Versão 2 do Modelo - Regressão Lasso (Regularização L1)"
   ]
  },
  {
   "cell_type": "code",
   "execution_count": null,
   "id": "ced71c08-86d1-4a24-b3cb-c77e6d94f5b6",
   "metadata": {},
   "outputs": [],
   "source": [
    "# O alpha controla a força da regularização\n",
    "modelo_dsa_v2 = Lasso(alpha = 1.0)  "
   ]
  },
  {
   "cell_type": "code",
   "execution_count": null,
   "id": "db71ef54-60b3-4c47-92bf-8901e4220287",
   "metadata": {},
   "outputs": [],
   "source": [
    "# Treina o modelo\n",
    "modelo_dsa_v2.fit(x_treino_scaled, y_treino)"
   ]
  },
  {
   "cell_type": "code",
   "execution_count": null,
   "id": "723f6ccf-4b98-4075-aa87-19f30e07939a",
   "metadata": {},
   "outputs": [],
   "source": [
    "# Previsões com dados de treino\n",
    "y_pred_treino_v2 = modelo_dsa_v2.predict(x_treino_scaled)"
   ]
  },
  {
   "cell_type": "code",
   "execution_count": null,
   "id": "fa8fd115-6af5-4b4f-a792-47206fa04d34",
   "metadata": {},
   "outputs": [],
   "source": [
    "# Print das métricas em treino\n",
    "print('Mean Absolute Error:', metrics.mean_absolute_error(y_treino, y_pred_treino_v2))\n",
    "print('Mean Squared Error:', metrics.mean_squared_error(y_treino, y_pred_treino_v2))\n",
    "print('Root Mean Squared Error:', np.sqrt(metrics.mean_squared_error(y_treino, y_pred_treino_v2)))\n",
    "print('R2 Score:', metrics.r2_score(y_treino, y_pred_treino_v2))"
   ]
  },
  {
   "cell_type": "code",
   "execution_count": null,
   "id": "95e28dae-081d-427d-820f-4469f55196b3",
   "metadata": {},
   "outputs": [],
   "source": [
    "# Previsões com dados de teste com padronização \n",
    "y_pred_teste_v2 = modelo_dsa_v2.predict(x_teste_scaled)"
   ]
  },
  {
   "cell_type": "code",
   "execution_count": null,
   "id": "ed73db16-6179-46fb-b057-31f98b5773fd",
   "metadata": {},
   "outputs": [],
   "source": [
    "# Print das métricas com dados de teste\n",
    "print('Mean Absolute Error:', metrics.mean_absolute_error(y_teste, y_pred_teste_v2))\n",
    "print('Mean Squared Error:', metrics.mean_squared_error(y_teste, y_pred_teste_v2))\n",
    "print('Root Mean Squared Error:', np.sqrt(metrics.mean_squared_error(y_teste, y_pred_teste_v2)))\n",
    "print('R2 Score:', metrics.r2_score(y_teste, y_pred_teste_v2))"
   ]
  },
  {
   "cell_type": "markdown",
   "id": "9c7c5388-e703-4540-845b-ec05c72d9bb6",
   "metadata": {},
   "source": [
    "### Versão 3 do Modelo - Regressão Ridge (Regularização L2)\n",
    "\n",
    "A regressão Ridge adiciona um termo de penalidade igual ao quadrado do tamanho dos coeficientes à função de custo. Isso força o modelo a manter os coeficientes pequenos, o que pode ajudar na redução do overfitting."
   ]
  },
  {
   "cell_type": "code",
   "execution_count": null,
   "id": "6397cb1a-86f0-417c-82cc-8110eab5bf5a",
   "metadata": {},
   "outputs": [],
   "source": [
    "# Cria o modelo com regularização Ridge\n",
    "# O alpha é o parâmetro de regularização\n",
    "modelo_dsa_v3 = Ridge(alpha = 1.0)  "
   ]
  },
  {
   "cell_type": "code",
   "execution_count": null,
   "id": "e6cdcc35-aea1-44eb-87f7-fb892aef72e9",
   "metadata": {},
   "outputs": [],
   "source": [
    "# Treinamento do modelo\n",
    "modelo_dsa_v3.fit(x_treino_scaled, y_treino)"
   ]
  },
  {
   "cell_type": "code",
   "execution_count": null,
   "id": "b41fee25-7cd0-4bd0-bcb5-8a742db5c7e8",
   "metadata": {},
   "outputs": [],
   "source": [
    "# Previsões com dados de treino\n",
    "y_pred_treino_v3 = modelo_dsa_v3.predict(x_treino_scaled)"
   ]
  },
  {
   "cell_type": "code",
   "execution_count": null,
   "id": "15bea492-487f-49f5-8abc-833fe26dd583",
   "metadata": {},
   "outputs": [],
   "source": [
    "# Print das métricas em treino\n",
    "print('Mean Absolute Error:', metrics.mean_absolute_error(y_treino, y_pred_treino_v3))\n",
    "print('Mean Squared Error:', metrics.mean_squared_error(y_treino, y_pred_treino_v3))\n",
    "print('Root Mean Squared Error:', np.sqrt(metrics.mean_squared_error(y_treino, y_pred_treino_v3)))\n",
    "print('R2 Score:', metrics.r2_score(y_treino, y_pred_treino_v3))"
   ]
  },
  {
   "cell_type": "code",
   "execution_count": null,
   "id": "97a1db47-750b-4b03-a9db-b54efae8cc86",
   "metadata": {},
   "outputs": [],
   "source": [
    "# Previsões com dados de teste com padronização \n",
    "y_pred_teste_v3 = modelo_dsa_v3.predict(x_teste_scaled)"
   ]
  },
  {
   "cell_type": "code",
   "execution_count": null,
   "id": "3bcbfccd-b733-49c6-9348-f2ae8648a51e",
   "metadata": {},
   "outputs": [],
   "source": [
    "# Print das métricas com dados de teste\n",
    "print('Mean Absolute Error:', metrics.mean_absolute_error(y_teste, y_pred_teste_v3))\n",
    "print('Mean Squared Error:', metrics.mean_squared_error(y_teste, y_pred_teste_v3))\n",
    "print('Root Mean Squared Error:', np.sqrt(metrics.mean_squared_error(y_teste, y_pred_teste_v3)))\n",
    "print('R2 Score:', metrics.r2_score(y_teste, y_pred_teste_v3))"
   ]
  },
  {
   "cell_type": "markdown",
   "id": "22a95402-f5d2-48f3-a732-c75300770b15",
   "metadata": {},
   "source": [
    "### Versão 4 do Modelo - Regressão Elastic Net\n",
    "\n",
    "Elastic Net é uma combinação das regularizações L1 e L2. Ela pode ser útil quando há múltiplas características correlacionadas. Elastic Net tem dois parâmetros para ajustar: um para a regularização L1 e outro para a L2. "
   ]
  },
  {
   "cell_type": "code",
   "execution_count": null,
   "id": "f3a023ff-783d-4bc0-852b-3a3f802aa98b",
   "metadata": {},
   "outputs": [],
   "source": [
    "# Cria o modelo com regularização Elastic Net\n",
    "# alpha é a força da regularização; l1_ratio é a mistura entre L1 e L2\n",
    "modelo_dsa_v4 = ElasticNet(alpha = 1.0, l1_ratio = 0.5)  "
   ]
  },
  {
   "cell_type": "code",
   "execution_count": null,
   "id": "18603cde-d875-4e54-985a-2d8c03edc70d",
   "metadata": {},
   "outputs": [],
   "source": [
    "# Treinamento do modelo\n",
    "modelo_dsa_v4.fit(x_treino_scaled, y_treino)"
   ]
  },
  {
   "cell_type": "code",
   "execution_count": null,
   "id": "9884d50b-741f-4f83-b2d4-f404a4048e03",
   "metadata": {},
   "outputs": [],
   "source": [
    "# Previsões com dados de treino\n",
    "y_pred_treino_v4 = modelo_dsa_v4.predict(x_treino_scaled)"
   ]
  },
  {
   "cell_type": "code",
   "execution_count": null,
   "id": "41278920-9ca6-4f2f-836f-d73ffce4aaf3",
   "metadata": {},
   "outputs": [],
   "source": [
    "# Print das métricas em treino\n",
    "print('Mean Absolute Error:', metrics.mean_absolute_error(y_treino, y_pred_treino_v4))\n",
    "print('Mean Squared Error:', metrics.mean_squared_error(y_treino, y_pred_treino_v4))\n",
    "print('Root Mean Squared Error:', np.sqrt(metrics.mean_squared_error(y_treino, y_pred_treino_v4)))\n",
    "print('R2 Score:', metrics.r2_score(y_treino, y_pred_treino_v4))"
   ]
  },
  {
   "cell_type": "code",
   "execution_count": null,
   "id": "f95a5c66-aa3d-44ea-ba57-b82c4e862d4a",
   "metadata": {},
   "outputs": [],
   "source": [
    "# Previsões com dados de teste com padronização \n",
    "y_pred_teste_v4 = modelo_dsa_v4.predict(x_teste_scaled)"
   ]
  },
  {
   "cell_type": "code",
   "execution_count": null,
   "id": "b9d67b4a-ec0c-41fc-90da-b02827585c8c",
   "metadata": {},
   "outputs": [],
   "source": [
    "# Print das métricas com dados de teste\n",
    "print('Mean Absolute Error:', metrics.mean_absolute_error(y_teste, y_pred_teste_v4))\n",
    "print('Mean Squared Error:', metrics.mean_squared_error(y_teste, y_pred_teste_v4))\n",
    "print('Root Mean Squared Error:', np.sqrt(metrics.mean_squared_error(y_teste, y_pred_teste_v4)))\n",
    "print('R2 Score:', metrics.r2_score(y_teste, y_pred_teste_v4))"
   ]
  },
  {
   "cell_type": "markdown",
   "id": "d1c34f53-357b-41ea-a6d8-5a5246590d39",
   "metadata": {},
   "source": [
    "### Versão 5 do Modelo - Versão com Otimização de Hiperparâmetros"
   ]
  },
  {
   "cell_type": "code",
   "execution_count": null,
   "id": "531fc5e1-4d9e-48cd-b340-c313fd1d1b53",
   "metadata": {},
   "outputs": [],
   "source": [
    "# Definição do modelo\n",
    "modelo_dsa_v5 = Ridge()"
   ]
  },
  {
   "cell_type": "code",
   "execution_count": null,
   "id": "658ee2ca-a634-48ed-a1e2-e9a33c54286f",
   "metadata": {},
   "outputs": [],
   "source": [
    "# Definição do espaço de hiperparâmetros para otimização\n",
    "parametros = {'alpha': [0.01, 0.1, 1, 10, 100]}"
   ]
  },
  {
   "cell_type": "code",
   "execution_count": null,
   "id": "09923d46-8828-41bf-a360-91ce3236f1e8",
   "metadata": {},
   "outputs": [],
   "source": [
    "# Configuração do GridSearchCV\n",
    "grid_search_dsa = GridSearchCV(estimator = modelo_dsa_v5, \n",
    "                               param_grid = parametros, \n",
    "                               cv = 5, \n",
    "                               scoring = 'neg_mean_squared_error', \n",
    "                               verbose = 1)"
   ]
  },
  {
   "cell_type": "code",
   "execution_count": null,
   "id": "68a98110-b7b7-434b-af2b-75f2b1f5c8ee",
   "metadata": {},
   "outputs": [],
   "source": [
    "# Treinamento com otimização de hiperparâmetros\n",
    "grid_search_dsa.fit(x_treino_scaled, y_treino)"
   ]
  },
  {
   "cell_type": "code",
   "execution_count": null,
   "id": "a1e6585d-e256-49fd-bd39-805e9026b57e",
   "metadata": {},
   "outputs": [],
   "source": [
    "# Melhor modelo\n",
    "melhor_modelo = grid_search_dsa.best_estimator_"
   ]
  },
  {
   "cell_type": "code",
   "execution_count": null,
   "id": "4400de6f-624f-444a-b8d2-7b17640ff417",
   "metadata": {},
   "outputs": [],
   "source": [
    "# Previsões com dados de treino\n",
    "y_pred_treino_v5 = melhor_modelo.predict(x_treino_scaled)"
   ]
  },
  {
   "cell_type": "code",
   "execution_count": null,
   "id": "72a84d56-9aea-4405-9e75-032a1056038d",
   "metadata": {},
   "outputs": [],
   "source": [
    "# Métricas em treino\n",
    "print('Mean Absolute Error:', metrics.mean_absolute_error(y_treino, y_pred_treino_v5))\n",
    "print('Mean Squared Error:', metrics.mean_squared_error(y_treino, y_pred_treino_v5))\n",
    "print('Root Mean Squared Error:', np.sqrt(metrics.mean_squared_error(y_treino, y_pred_treino_v5)))\n",
    "print('R2 Score:', metrics.r2_score(y_treino, y_pred_treino_v5))"
   ]
  },
  {
   "cell_type": "code",
   "execution_count": null,
   "id": "0f029a44-7387-4542-9c78-3103f711aac7",
   "metadata": {},
   "outputs": [],
   "source": [
    "# Previsões com dados de teste\n",
    "y_pred_teste_v5 = melhor_modelo.predict(x_teste_scaled)"
   ]
  },
  {
   "cell_type": "code",
   "execution_count": null,
   "id": "ea3475b3-263a-4e35-852f-8761714e08a7",
   "metadata": {},
   "outputs": [],
   "source": [
    "# Métricas com dados de teste\n",
    "print('Mean Absolute Error:', metrics.mean_absolute_error(y_teste, y_pred_teste_v5))\n",
    "print('Mean Squared Error:', metrics.mean_squared_error(y_teste, y_pred_teste_v5))\n",
    "print('Root Mean Squared Error:', np.sqrt(metrics.mean_squared_error(y_teste, y_pred_teste_v5)))\n",
    "print('R2 Score:', metrics.r2_score(y_teste, y_pred_teste_v5))"
   ]
  },
  {
   "cell_type": "code",
   "execution_count": null,
   "id": "3a3baa65-9501-48cf-bc8b-d4394daf5351",
   "metadata": {},
   "outputs": [],
   "source": [
    "# Imprime o melhor hiperparâmetro\n",
    "print('Melhor alpha:', grid_search_dsa.best_params_['alpha'])"
   ]
  },
  {
   "cell_type": "markdown",
   "id": "3285553e-70c6-46dd-a6eb-f0aae78e1a57",
   "metadata": {},
   "source": [
    "## Seleção do Modelo"
   ]
  },
  {
   "cell_type": "code",
   "execution_count": null,
   "id": "34fd8beb-ff92-4168-b56a-69c1298d1e2b",
   "metadata": {},
   "outputs": [],
   "source": [
    "print('RMSE V1:', np.sqrt(metrics.mean_squared_error(y_teste, y_pred_teste_v1)))\n",
    "print('RMSE V2:', np.sqrt(metrics.mean_squared_error(y_teste, y_pred_teste_v2)))\n",
    "print('RMSE V3:', np.sqrt(metrics.mean_squared_error(y_teste, y_pred_teste_v3)))\n",
    "print('RMSE V4:', np.sqrt(metrics.mean_squared_error(y_teste, y_pred_teste_v4)))\n",
    "print('RMSE V5:', np.sqrt(metrics.mean_squared_error(y_teste, y_pred_teste_v5)))"
   ]
  },
  {
   "cell_type": "code",
   "execution_count": null,
   "id": "6b5bdf36-6ce9-4464-8d5f-b1140ab579ff",
   "metadata": {},
   "outputs": [],
   "source": [
    "print('R2 Score Modelo V1:', metrics.r2_score(y_teste, y_pred_teste_v1))\n",
    "print('R2 Score Modelo V2:', metrics.r2_score(y_teste, y_pred_teste_v2))\n",
    "print('R2 Score Modelo V3:', metrics.r2_score(y_teste, y_pred_teste_v3))\n",
    "print('R2 Score Modelo V4:', metrics.r2_score(y_teste, y_pred_teste_v4))\n",
    "print('R2 Score Modelo V5:', metrics.r2_score(y_teste, y_pred_teste_v5))"
   ]
  },
  {
   "cell_type": "markdown",
   "id": "8881330b-0b7f-47d1-add1-f33739c166d7",
   "metadata": {},
   "source": [
    "Vamos trabalhar com o modelo v1 que apresenta a melhor performance geral, ao mesmo tempo que é o modelo mais simples. Vamos plotar os resíduos e validar uma das suposições da Regressão Linear."
   ]
  },
  {
   "cell_type": "code",
   "execution_count": null,
   "id": "07fc2d8c-352b-4fdf-9ece-649c10970479",
   "metadata": {},
   "outputs": [],
   "source": [
    "# Calculando os resíduos para o conjunto de treino\n",
    "residuos_treino = y_treino - y_pred_treino_v1\n",
    "\n",
    "# Calculando os resíduos para o conjunto de teste\n",
    "residuos_teste = y_teste - y_pred_teste_v1\n",
    "\n",
    "# Plotando os resíduos do conjunto de treino\n",
    "plt.figure(figsize = (10, 5))\n",
    "plt.scatter(y_pred_treino_v1, residuos_treino, color = 'blue', label = 'Treino', alpha = 0.5)\n",
    "plt.axhline(y = 0, color = 'red', linestyle = '--')\n",
    "plt.xlabel('Valores Previstos')\n",
    "plt.ylabel('Resíduos')\n",
    "plt.title('Resíduos vs. Valores Previstos (Treino)')\n",
    "plt.legend()\n",
    "plt.show()\n",
    "\n",
    "# Plotando os resíduos do conjunto de teste\n",
    "plt.figure(figsize = (10, 5))\n",
    "plt.scatter(y_pred_teste_v1, residuos_teste, color = 'green', label = 'Teste', alpha = 0.5)\n",
    "plt.axhline(y = 0, color = 'red', linestyle = '--')\n",
    "plt.xlabel('Valores Previstos')\n",
    "plt.ylabel('Resíduos')\n",
    "plt.title('Resíduos vs. Valores Previstos (Teste)')\n",
    "plt.legend()\n",
    "plt.show()"
   ]
  },
  {
   "cell_type": "markdown",
   "id": "1eb240b0-6ae3-46e2-b402-a1c5ddd6566b",
   "metadata": {},
   "source": [
    "Nestes gráficos, você está olhando para:\n",
    "\n",
    "**Distribuição dos Resíduos**: Idealmente, os resíduos devem estar distribuídos aleatoriamente ao redor da linha horizontal y=0, indicando que o modelo está fazendo boas previsões em média em todas as faixas de valores.\n",
    "\n",
    "**Padrões nos Resíduos**: Se você notar padrões específicos, como uma forma curvilínea ou uma dispersão crescente ou decrescente dos resíduos conforme os valores previstos aumentam, isso pode indicar problemas no modelo, como a necessidade de transformação nas variáveis ou a presença de heteroscedasticidade.\n",
    "\n",
    "Nosso modelo está pronto para o deploy."
   ]
  },
  {
   "cell_type": "code",
   "execution_count": null,
   "id": "a5060324-810f-47c7-9e70-42a685679dc6",
   "metadata": {},
   "outputs": [],
   "source": [
    "# Salva o scaler\n",
    "joblib.dump(dsa_scaler, 'dsa_scaler.pkl')"
   ]
  },
  {
   "cell_type": "code",
   "execution_count": null,
   "id": "c71f4c61-80f8-4434-802e-3474be90058d",
   "metadata": {},
   "outputs": [],
   "source": [
    "# Salva o modelo\n",
    "joblib.dump(modelo_dsa_v1, 'modelo_dsa_v1.pkl')"
   ]
  },
  {
   "cell_type": "markdown",
   "id": "8ff6626a-c899-4d7b-ac72-6e24dd3f26a6",
   "metadata": {},
   "source": [
    "## Deploy e Uso do Modelo Para Previsão com Novos Dados"
   ]
  },
  {
   "cell_type": "code",
   "execution_count": null,
   "id": "ff804f97-939a-45ca-ab36-9cc3cf5a11ba",
   "metadata": {},
   "outputs": [],
   "source": [
    "# Carrega padronizador e modelo\n",
    "scaler_final = joblib.load('dsa_scaler.pkl')\n",
    "modelo_final = joblib.load('modelo_dsa_v1.pkl')"
   ]
  },
  {
   "cell_type": "code",
   "execution_count": null,
   "id": "38e7ef3e-3678-4029-b692-6b578dd58255",
   "metadata": {},
   "outputs": [],
   "source": [
    "# Carregando os novos dados\n",
    "novos_dados = pd.read_csv('novos_dados.csv')"
   ]
  },
  {
   "cell_type": "code",
   "execution_count": null,
   "id": "5f9adc1f-12c8-4cbf-9b91-373e535e2190",
   "metadata": {},
   "outputs": [],
   "source": [
    "# Visualiza\n",
    "novos_dados"
   ]
  },
  {
   "cell_type": "code",
   "execution_count": null,
   "id": "5f4e1bd6-4791-4a55-8fb1-4d2ec2d6387c",
   "metadata": {},
   "outputs": [],
   "source": [
    "# Os novos dados precisam ser padronizados\n",
    "novos_dados_scaled = scaler_final.transform(novos_dados)"
   ]
  },
  {
   "cell_type": "code",
   "execution_count": null,
   "id": "93ebe0a8-6e29-4c1d-ab68-c41558c0a773",
   "metadata": {},
   "outputs": [],
   "source": [
    "# Visualiza\n",
    "novos_dados_scaled"
   ]
  },
  {
   "cell_type": "code",
   "execution_count": null,
   "id": "a2ed5ffc-f215-4cc5-b526-f633c6311de4",
   "metadata": {},
   "outputs": [],
   "source": [
    "# Previsão\n",
    "previsao = modelo_final.predict(novos_dados_scaled)"
   ]
  },
  {
   "cell_type": "code",
   "execution_count": null,
   "id": "cbb3eb2b-bcea-4b96-8804-7d5688facb91",
   "metadata": {},
   "outputs": [],
   "source": [
    "type(previsao)"
   ]
  },
  {
   "cell_type": "code",
   "execution_count": null,
   "id": "be12cd7e-c2d9-42a5-a1af-701eaa209701",
   "metadata": {},
   "outputs": [],
   "source": [
    "print('De acordo com os dados de entrada a expectativa de vida (em anos) é de aproximadamente:', \n",
    "      np.round(previsao, 2))"
   ]
  }
 ],
 "metadata": {
  "kernelspec": {
   "display_name": "Python 3 (ipykernel)",
   "language": "python",
   "name": "python3"
  },
  "language_info": {
   "codemirror_mode": {
    "name": "ipython",
    "version": 3
   },
   "file_extension": ".py",
   "mimetype": "text/x-python",
   "name": "python",
   "nbconvert_exporter": "python",
   "pygments_lexer": "ipython3",
   "version": "3.12.4"
  }
 },
 "nbformat": 4,
 "nbformat_minor": 5
}
